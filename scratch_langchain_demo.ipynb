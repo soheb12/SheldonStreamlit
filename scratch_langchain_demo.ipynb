{
 "cells": [
  {
   "cell_type": "code",
   "execution_count": 1,
   "metadata": {},
   "outputs": [
    {
     "name": "stdout",
     "output_type": "stream",
     "text": [
      "Note: AWS CLI version 2, the latest major version of the AWS CLI, is now stable and recommended for general use. For more information, see the AWS CLI version 2 installation instructions at: https://docs.aws.amazon.com/cli/latest/userguide/install-cliv2.html\n",
      "\n",
      "usage: aws [options] <command> <subcommand> [<subcommand> ...] [parameters]\n",
      "To see help text, you can run:\n",
      "\n",
      "  aws help\n",
      "  aws <command> help\n",
      "  aws <command> <subcommand> help\n",
      "aws: error: argument subcommand: Invalid choice, valid choices are:\n",
      "\n",
      "list                                     | get                                     \n",
      "set                                      | add-model                               \n",
      "env: AWS_PROFILE=dexter\n",
      "{\n",
      "    \"UserId\": \"AIDA3IY7YAJ5E36J4DXW3\",\n",
      "    \"Account\": \"774771311226\",\n",
      "    \"Arn\": \"arn:aws:iam::774771311226:user/dvdmlee\"\n",
      "}\n"
     ]
    }
   ],
   "source": [
    "%load_ext autoreload\n",
    "%autoreload 2\n",
    "\n",
    "### Set AWS Credentials\n",
    "!aws configure list-profiles\n",
    "!export AWS_PROFILE=dexter\n",
    "%env AWS_PROFILE=dexter\n",
    "!aws sts get-caller-identity"
   ]
  },
  {
   "cell_type": "code",
   "execution_count": 2,
   "metadata": {},
   "outputs": [],
   "source": [
    "import boto3\n",
    "\n",
    "from langchain.llms.bedrock import Bedrock\n",
    "from langchain.embeddings import BedrockEmbeddings\n",
    "\n",
    "bedrock = boto3.client(\n",
    "    service_name='bedrock',\n",
    "    region_name='us-east-1',\n",
    "    endpoint_url='https://bedrock.us-east-1.amazonaws.com'\n",
    ")\n",
    "\n",
    "embeddings = BedrockEmbeddings(client=bedrock)\n",
    "\n",
    "llm = Bedrock(\n",
    "    client=bedrock, \n",
    "    model_id=\"amazon.titan-tg1-large\"\n",
    "    )"
   ]
  },
  {
   "cell_type": "code",
   "execution_count": 4,
   "metadata": {},
   "outputs": [],
   "source": [
    "from code.prompts import QuestionAnswerTemplate"
   ]
  },
  {
   "cell_type": "code",
   "execution_count": 5,
   "metadata": {},
   "outputs": [],
   "source": [
    "qat = QuestionAnswerTemplate(llm)"
   ]
  },
  {
   "cell_type": "code",
   "execution_count": 10,
   "metadata": {},
   "outputs": [
    {
     "data": {
      "text/plain": [
       "(PromptTemplate(input_variables=['query', 'sources'], output_parser=None, partial_variables={}, template=\"Use the following pieces of context to answer the question at the end. If you don't know the answer, just say that you don't know, don't try to make up an answer. Organize your answer into logical chunks as needed and be as clear and concise as possible. Return an answer is 1-3 sentences long. \\n\\n        Context: ```\\n        {sources}\\n        ```\\n\\n        Question: ```\\n        {query}\\n        ```\\n\\n        Helpful Answer:\\n        \", template_format='f-string', validate_template=True),\n",
       " \"Use the following pieces of context to answer the question at the end. If you don't know the answer, just say that you don't know, don't try to make up an answer. Organize your answer into logical chunks as needed and be as clear and concise as possible. Return an answer is 1-3 sentences long. \\n\\n        Context: ```\\n        {sources}\\n        ```\\n\\n        Question: ```\\n        {query}\\n        ```\\n\\n        Helpful Answer:\\n        \")"
      ]
     },
     "execution_count": 10,
     "metadata": {},
     "output_type": "execute_result"
    }
   ],
   "source": [
    "qat.prompt, qat.template_string"
   ]
  },
  {
   "attachments": {},
   "cell_type": "markdown",
   "metadata": {},
   "source": [
    "### parser test\n",
    "\n",
    "takeaway is parser does not work well with Amazon...\n",
    "\n",
    "https://python.langchain.com/docs/modules/model_io/output_parsers/"
   ]
  },
  {
   "cell_type": "code",
   "execution_count": 39,
   "metadata": {},
   "outputs": [],
   "source": [
    "# from langchain.output_parsers import PydanticOutputParser\n",
    "\n",
    "# from pydantic import BaseModel, Field, validator\n",
    "\n",
    "# class ContactSummary(BaseModel):\n",
    "#     summary: str = Field(description=\"Summary of the customer ticket\")\n",
    "#     key_details: str = Field(description=\"Key details of the customer ticket\")\n",
    "\n",
    "# class ContactSummary(BaseModel):\n",
    "#     # summary: str = Field(description=\"Summary of the customer ticket\")\n",
    "#     # key_details: str = Field(description=\"Key details of the customer ticket\")\n",
    "#     name: str = Field(description=\"Name of the customer\")\n",
    "#     email: str = Field(description=\"Email of the customer\")\n",
    "#     address: str = Field(description=\"Address of the customer\")\n",
    "#     phone_number: str = Field(description=\"Phone number of the customer\")\n",
    "\n",
    "# # Set up a parser + inject instructions into the prompt template.\n",
    "# parser = PydanticOutputParser(pydantic_object=ContactSummary)"
   ]
  },
  {
   "cell_type": "code",
   "execution_count": 40,
   "metadata": {},
   "outputs": [],
   "source": [
    "# from langchain import PromptTemplate\n",
    "\n",
    "# pt = PromptTemplate(\n",
    "#     template='Summarize the customer ticket and provide key identification details such as name, email, ids, etc.\\n{format_instructions}\\nTicket:```{ticket}```\\n',\n",
    "#     input_variables=['ticket'],\n",
    "#     partial_variables={'format_instructions': parser.get_format_instructions()}\n",
    "# )\n",
    "\n",
    "# pt = PromptTemplate(\n",
    "#     template='''Extract the name, email, address and phone number from the provided ticket.\n",
    "    \n",
    "#     Format instructions: {format_instructions}\n",
    "    \n",
    "#     Ticket:```{ticket}```\\n''',\n",
    "#     input_variables=['ticket'],\n",
    "#     partial_variables={'format_instructions': parser.get_format_instructions()}\n",
    "# )\n",
    "\n",
    "# ticket = '''Dear Shnoogy Support Team,\n",
    "\n",
    "# Help! I'm in a tax nightmare! The 1099 tax form I received as a seller on Shnoogy is totally messed up. My name is Emma Thompson (Seller ID: #SHN123) and I am beyond frustrated. The reported sales amount is way off, and it's going to create huge problems with my taxes. I need this fixed urgently!\n",
    "\n",
    "# I don't have time for back-and-forth. Please investigate the discrepancies ASAP and send me an accurate revised 1099 form immediately. My financial obligations are at stake, and I rely on Shnoogy to get this right.\n",
    "\n",
    "# Contact me at emma.thompson@example.com or (555) 789-1234. Address: 456 Elm Street, Anytown, USA.\n",
    "\n",
    "# I expect swift action and resolution. This cannot wait. Don't let me down!\n",
    "\n",
    "# Sincerely,\n",
    "\n",
    "# Emma Thompson'''\n",
    "\n",
    "# _input = pt.format_prompt(ticket=ticket)\n",
    "# _input"
   ]
  },
  {
   "cell_type": "code",
   "execution_count": 41,
   "metadata": {},
   "outputs": [],
   "source": [
    "# _input.to_string()"
   ]
  },
  {
   "cell_type": "code",
   "execution_count": 42,
   "metadata": {},
   "outputs": [],
   "source": [
    "# output = llm(_input.to_string())\n",
    "# print(output)"
   ]
  },
  {
   "cell_type": "code",
   "execution_count": 43,
   "metadata": {},
   "outputs": [],
   "source": [
    "# parser.parse(output)"
   ]
  },
  {
   "attachments": {},
   "cell_type": "markdown",
   "metadata": {},
   "source": [
    "### Memory"
   ]
  },
  {
   "cell_type": "code",
   "execution_count": 44,
   "metadata": {},
   "outputs": [],
   "source": [
    "from langchain.memory import ConversationBufferMemory\n",
    "from langchain.chains import ConversationChain"
   ]
  },
  {
   "cell_type": "code",
   "execution_count": 45,
   "metadata": {},
   "outputs": [],
   "source": [
    "memory = ConversationBufferMemory()\n",
    "conversation = ConversationChain(\n",
    "    llm=llm,\n",
    "    memory=memory,\n",
    "    verbose=True\n",
    ")"
   ]
  },
  {
   "cell_type": "code",
   "execution_count": 46,
   "metadata": {},
   "outputs": [
    {
     "name": "stdout",
     "output_type": "stream",
     "text": [
      "\n",
      "\n",
      "\u001b[1m> Entering new  chain...\u001b[0m\n",
      "Prompt after formatting:\n",
      "\u001b[32;1m\u001b[1;3mThe following is a friendly conversation between a human and an AI. The AI is talkative and provides lots of specific details from its context. If the AI does not know the answer to a question, it truthfully says it does not know.\n",
      "\n",
      "Current conversation:\n",
      "\n",
      "Human: Hi, my name is David\n",
      "AI:\u001b[0m\n",
      "\n",
      "\u001b[1m> Finished chain.\u001b[0m\n"
     ]
    },
    {
     "data": {
      "text/plain": [
       "' Hello! My name is Atlas. I appreciate you giving me your name, David.'"
      ]
     },
     "execution_count": 46,
     "metadata": {},
     "output_type": "execute_result"
    }
   ],
   "source": [
    "conversation.predict(input='Hi, my name is David')"
   ]
  },
  {
   "cell_type": "code",
   "execution_count": 47,
   "metadata": {},
   "outputs": [
    {
     "name": "stdout",
     "output_type": "stream",
     "text": [
      "\n",
      "\n",
      "\u001b[1m> Entering new  chain...\u001b[0m\n",
      "Prompt after formatting:\n",
      "\u001b[32;1m\u001b[1;3mThe following is a friendly conversation between a human and an AI. The AI is talkative and provides lots of specific details from its context. If the AI does not know the answer to a question, it truthfully says it does not know.\n",
      "\n",
      "Current conversation:\n",
      "Human: Hi, my name is David\n",
      "AI:  Hello! My name is Atlas. I appreciate you giving me your name, David.\n",
      "Human: My favorite sports team is Arsenal\n",
      "AI:\u001b[0m\n",
      "\n",
      "\u001b[1m> Finished chain.\u001b[0m\n"
     ]
    },
    {
     "data": {
      "text/plain": [
       "' Arsenal is an English professional football club located in Islington, London, England. What is your favorite team about them?'"
      ]
     },
     "execution_count": 47,
     "metadata": {},
     "output_type": "execute_result"
    }
   ],
   "source": [
    "conversation.predict(input='My favorite sports team is Arsenal')"
   ]
  },
  {
   "cell_type": "code",
   "execution_count": 48,
   "metadata": {},
   "outputs": [
    {
     "name": "stdout",
     "output_type": "stream",
     "text": [
      "\n",
      "\n",
      "\u001b[1m> Entering new  chain...\u001b[0m\n",
      "Prompt after formatting:\n",
      "\u001b[32;1m\u001b[1;3mThe following is a friendly conversation between a human and an AI. The AI is talkative and provides lots of specific details from its context. If the AI does not know the answer to a question, it truthfully says it does not know.\n",
      "\n",
      "Current conversation:\n",
      "Human: Hi, my name is David\n",
      "AI:  Hello! My name is Atlas. I appreciate you giving me your name, David.\n",
      "Human: My favorite sports team is Arsenal\n",
      "AI:  Arsenal is an English professional football club located in Islington, London, England. What is your favorite team about them?\n",
      "Human: Whats a good city for me to visit?\n",
      "AI:\u001b[0m\n",
      "\n",
      "\u001b[1m> Finished chain.\u001b[0m\n"
     ]
    },
    {
     "data": {
      "text/plain": [
       "\" I don't know. I'm not sure of your tastes or what you're looking for.\""
      ]
     },
     "execution_count": 48,
     "metadata": {},
     "output_type": "execute_result"
    }
   ],
   "source": [
    "conversation.predict(input='Whats a good city for me to visit?')"
   ]
  },
  {
   "cell_type": "code",
   "execution_count": 49,
   "metadata": {},
   "outputs": [
    {
     "name": "stdout",
     "output_type": "stream",
     "text": [
      "\n",
      "\n",
      "\u001b[1m> Entering new  chain...\u001b[0m\n",
      "Prompt after formatting:\n",
      "\u001b[32;1m\u001b[1;3mThe following is a friendly conversation between a human and an AI. The AI is talkative and provides lots of specific details from its context. If the AI does not know the answer to a question, it truthfully says it does not know.\n",
      "\n",
      "Current conversation:\n",
      "Human: Hi, my name is David\n",
      "AI:  Hello! My name is Atlas. I appreciate you giving me your name, David.\n",
      "Human: My favorite sports team is Arsenal\n",
      "AI:  Arsenal is an English professional football club located in Islington, London, England. What is your favorite team about them?\n",
      "Human: Whats a good city for me to visit?\n",
      "AI:  I don't know. I'm not sure of your tastes or what you're looking for.\n",
      "Human: Whats a good city for me to visit to watch a soccer game?\n",
      "AI:\u001b[0m\n",
      "\n",
      "\u001b[1m> Finished chain.\u001b[0m\n"
     ]
    },
    {
     "data": {
      "text/plain": [
       "' A good city to visit to watch a soccer game would be Manchester, England. Manchester is home to two major soccer clubs: Manchester City F.C. and Manchester United F.C.'"
      ]
     },
     "execution_count": 49,
     "metadata": {},
     "output_type": "execute_result"
    }
   ],
   "source": [
    "conversation.predict(input='Whats a good city for me to visit to watch a soccer game?')"
   ]
  },
  {
   "cell_type": "code",
   "execution_count": 53,
   "metadata": {},
   "outputs": [
    {
     "name": "stdout",
     "output_type": "stream",
     "text": [
      "{'history': \"Human: Hi, my name is David\\nAI:  Hello! My name is Atlas. I appreciate you giving me your name, David.\\nHuman: My favorite sports team is Arsenal\\nAI:  Arsenal is an English professional football club located in Islington, London, England. What is your favorite team about them?\\nHuman: Whats a good city for me to visit?\\nAI:  I don't know. I'm not sure of your tastes or what you're looking for.\\nHuman: Whats a good city for me to visit to watch a soccer game?\\nAI:  A good city to visit to watch a soccer game would be Manchester, England. Manchester is home to two major soccer clubs: Manchester City F.C. and Manchester United F.C.\"}\n"
     ]
    }
   ],
   "source": [
    "print(memory.load_memory_variables({}))"
   ]
  },
  {
   "cell_type": "code",
   "execution_count": 52,
   "metadata": {},
   "outputs": [
    {
     "name": "stdout",
     "output_type": "stream",
     "text": [
      "Human: Hi, my name is David\n",
      "AI:  Hello! My name is Atlas. I appreciate you giving me your name, David.\n",
      "Human: My favorite sports team is Arsenal\n",
      "AI:  Arsenal is an English professional football club located in Islington, London, England. What is your favorite team about them?\n",
      "Human: Whats a good city for me to visit?\n",
      "AI:  I don't know. I'm not sure of your tastes or what you're looking for.\n",
      "Human: Whats a good city for me to visit to watch a soccer game?\n",
      "AI:  A good city to visit to watch a soccer game would be Manchester, England. Manchester is home to two major soccer clubs: Manchester City F.C. and Manchester United F.C.\n"
     ]
    }
   ],
   "source": [
    "print(memory.buffer)"
   ]
  },
  {
   "cell_type": "code",
   "execution_count": 55,
   "metadata": {},
   "outputs": [],
   "source": [
    "memory = ConversationBufferMemory()\n",
    "memory.save_context({'input': 'Hi'}, {'output': 'Whats up dog'})\n",
    "memory.save_context({'input': 'nm jc jc'}, {'output': 'oh fs thats a vibe'})"
   ]
  },
  {
   "cell_type": "code",
   "execution_count": 57,
   "metadata": {},
   "outputs": [
    {
     "name": "stdout",
     "output_type": "stream",
     "text": [
      "{'history': 'Human: Hi\\nAI: Whats up dog\\nHuman: nm jc jc\\nAI: oh fs thats a vibe'}\n"
     ]
    }
   ],
   "source": [
    "print(memory.load_memory_variables({}))"
   ]
  },
  {
   "cell_type": "code",
   "execution_count": 59,
   "metadata": {},
   "outputs": [
    {
     "name": "stdout",
     "output_type": "stream",
     "text": [
      "\n",
      "\n",
      "\u001b[1m> Entering new  chain...\u001b[0m\n",
      "Prompt after formatting:\n",
      "\u001b[32;1m\u001b[1;3mThe following is a friendly conversation between a human and an AI. The AI is talkative and provides lots of specific details from its context. If the AI does not know the answer to a question, it truthfully says it does not know.\n",
      "\n",
      "Current conversation:\n",
      "Human: Hi\n",
      "AI: Whats up dog\n",
      "Human: nm jc jc\n",
      "AI: oh fs thats a vibe\n",
      "Human: yup yup true dat\n",
      "AI:\u001b[0m\n",
      "\n",
      "\u001b[1m> Finished chain.\u001b[0m\n"
     ]
    },
    {
     "data": {
      "text/plain": [
       "' I don\\'t know what \"nm jc jc\" means.'"
      ]
     },
     "execution_count": 59,
     "metadata": {},
     "output_type": "execute_result"
    }
   ],
   "source": [
    "conversation = ConversationChain(\n",
    "    llm=llm,\n",
    "    memory=memory,\n",
    "    verbose=True\n",
    ")\n",
    "\n",
    "conversation.predict(input='yup yup true dat')"
   ]
  },
  {
   "cell_type": "code",
   "execution_count": 60,
   "metadata": {},
   "outputs": [],
   "source": [
    "from langchain.memory import ConversationBufferWindowMemory"
   ]
  },
  {
   "cell_type": "code",
   "execution_count": 65,
   "metadata": {},
   "outputs": [
    {
     "name": "stdout",
     "output_type": "stream",
     "text": [
      "{'history': 'Human: Hi my name is David\\nAI: Whats up homie Dave\\nHuman: not much just chilling just chilling\\nAI: oh for sure. thats a vibe'}\n"
     ]
    }
   ],
   "source": [
    "memory = ConversationBufferWindowMemory(k=2)\n",
    "\n",
    "memory.save_context({'input': 'Hi my name is David'}, {'output': 'Whats up homie Dave'})\n",
    "memory.save_context({'input': 'not much just chilling just chilling'}, {'output': 'oh for sure. thats a vibe'})\n",
    "\n",
    "print(memory.load_memory_variables({}))"
   ]
  },
  {
   "cell_type": "code",
   "execution_count": 66,
   "metadata": {},
   "outputs": [
    {
     "name": "stdout",
     "output_type": "stream",
     "text": [
      "\n",
      "\n",
      "\u001b[1m> Entering new  chain...\u001b[0m\n",
      "Prompt after formatting:\n",
      "\u001b[32;1m\u001b[1;3mThe following is a friendly conversation between a human and an AI. The AI is talkative and provides lots of specific details from its context. If the AI does not know the answer to a question, it truthfully says it does not know.\n",
      "\n",
      "Current conversation:\n",
      "Human: Hi my name is David\n",
      "AI: Whats up homie Dave\n",
      "Human: not much just chilling just chilling\n",
      "AI: oh for sure. thats a vibe\n",
      "Human: whats my name homie?\n",
      "AI:\u001b[0m\n",
      "\n",
      "\u001b[1m> Finished chain.\u001b[0m\n"
     ]
    },
    {
     "data": {
      "text/plain": [
       "' Your name is David. There are no other details associated with your account that would help me answer this question further.'"
      ]
     },
     "execution_count": 66,
     "metadata": {},
     "output_type": "execute_result"
    }
   ],
   "source": [
    "conversation = ConversationChain(\n",
    "    llm=llm,\n",
    "    memory=memory,\n",
    "    verbose=True\n",
    ")\n",
    "\n",
    "conversation.predict(input='whats my name homie?')"
   ]
  },
  {
   "cell_type": "code",
   "execution_count": 70,
   "metadata": {},
   "outputs": [],
   "source": [
    "from langchain.memory import ConversationTokenBufferMemory"
   ]
  },
  {
   "cell_type": "code",
   "execution_count": 71,
   "metadata": {},
   "outputs": [
    {
     "name": "stderr",
     "output_type": "stream",
     "text": [
      "/Users/dvdmlee/Projects/_bedrock/venv_bedrock/lib/python3.11/site-packages/tqdm/auto.py:21: TqdmWarning: IProgress not found. Please update jupyter and ipywidgets. See https://ipywidgets.readthedocs.io/en/stable/user_install.html\n",
      "  from .autonotebook import tqdm as notebook_tqdm\n",
      "None of PyTorch, TensorFlow >= 2.0, or Flax have been found. Models won't be available and only tokenizers, configuration and file/data utilities can be used.\n",
      "Downloading (…)olve/main/vocab.json: 100%|██████████| 1.04M/1.04M [00:00<00:00, 6.74MB/s]\n",
      "Downloading (…)olve/main/merges.txt: 100%|██████████| 456k/456k [00:00<00:00, 3.46MB/s]\n",
      "Downloading (…)/main/tokenizer.json: 100%|██████████| 1.36M/1.36M [00:00<00:00, 6.88MB/s]\n",
      "Downloading (…)lve/main/config.json: 100%|██████████| 665/665 [00:00<00:00, 2.93MB/s]\n"
     ]
    }
   ],
   "source": [
    "memory = ConversationTokenBufferMemory(llm=llm, max_token_limit=30)\n",
    "\n",
    "memory = ConversationTokenBufferMemory(llm=llm, max_token_limit=30)\n",
    "memory.save_context({\"input\": \"AI is what?!\"},\n",
    "                    {\"output\": \"Amazing!\"})\n",
    "memory.save_context({\"input\": \"Backpropagation is what?\"},\n",
    "                    {\"output\": \"Beautiful!\"})\n",
    "memory.save_context({\"input\": \"Chatbots are what?\"}, \n",
    "                    {\"output\": \"Charming!\"})"
   ]
  },
  {
   "cell_type": "code",
   "execution_count": 72,
   "metadata": {},
   "outputs": [
    {
     "data": {
      "text/plain": [
       "{'history': 'AI: Amazing!\\nHuman: Backpropagation is what?\\nAI: Beautiful!\\nHuman: Chatbots are what?\\nAI: Charming!'}"
      ]
     },
     "execution_count": 72,
     "metadata": {},
     "output_type": "execute_result"
    }
   ],
   "source": [
    "memory.load_memory_variables({})"
   ]
  },
  {
   "cell_type": "code",
   "execution_count": 73,
   "metadata": {},
   "outputs": [],
   "source": [
    "from langchain.memory import ConversationSummaryBufferMemory"
   ]
  },
  {
   "cell_type": "code",
   "execution_count": 95,
   "metadata": {},
   "outputs": [],
   "source": [
    "# create a long string\n",
    "restate = '''I understand. it seems like the name and address need to be updated. and that the financials must be double checked.is that correct?'''\n",
    "\n",
    "memory = ConversationSummaryBufferMemory(llm=llm, max_token_limit=100)\n",
    "memory.save_context({\"input\": \"Hi I need help\"}, {\"output\": \"Okay what can i help you with?\"})\n",
    "memory.save_context({\"input\": \"I just receieved my 1099. It does not look correct. Can you fix it?\"},\n",
    "                    {\"output\": \"Sure what looks wrong with it?\"})\n",
    "memory.save_context({\"input\": \"The details are not right. First off, my name is David Boodycheeks not David Butticheeg. Second, the address is wrong. I moved from Florida to Texas. My new address is 123 Main Street, Austin TX. Lastly, the amount does not look correct. It says I only made 300k when in reality I made close to 500k.\"}, \n",
    "                    {\"output\": f\"{restate}\"})\n",
    "memory.save_context({'input': 'that is correct.'}, {'output': 'okay we will update the information and send it out.'})"
   ]
  },
  {
   "cell_type": "code",
   "execution_count": 96,
   "metadata": {},
   "outputs": [
    {
     "data": {
      "text/plain": [
       "{'history': 'System: \\nThe human asks for help with their 1099. The AI agrees to help and asks for more information. The human explains that the name, address, and amount are all wrong. The AI agrees to make the changes.\\nAI: I understand. it seems like the name and address need to be updated. and that the financials must be double checked.is that correct?\\nHuman: that is correct.\\nAI: okay we will update the information and send it out.'}"
      ]
     },
     "execution_count": 96,
     "metadata": {},
     "output_type": "execute_result"
    }
   ],
   "source": [
    "memory.load_memory_variables({})"
   ]
  },
  {
   "cell_type": "code",
   "execution_count": 97,
   "metadata": {},
   "outputs": [],
   "source": [
    "conversation = ConversationChain(\n",
    "    llm=llm, \n",
    "    memory = memory,\n",
    "    verbose=True\n",
    ")"
   ]
  },
  {
   "cell_type": "code",
   "execution_count": 98,
   "metadata": {},
   "outputs": [
    {
     "name": "stdout",
     "output_type": "stream",
     "text": [
      "\n",
      "\n",
      "\u001b[1m> Entering new  chain...\u001b[0m\n",
      "Prompt after formatting:\n",
      "\u001b[32;1m\u001b[1;3mThe following is a friendly conversation between a human and an AI. The AI is talkative and provides lots of specific details from its context. If the AI does not know the answer to a question, it truthfully says it does not know.\n",
      "\n",
      "Current conversation:\n",
      "System: \n",
      "The human asks for help with their 1099. The AI agrees to help and asks for more information. The human explains that the name, address, and amount are all wrong. The AI agrees to make the changes.\n",
      "AI: I understand. it seems like the name and address need to be updated. and that the financials must be double checked.is that correct?\n",
      "Human: that is correct.\n",
      "AI: okay we will update the information and send it out.\n",
      "Human: great so just to make sure you understand, what are you going to correct?\n",
      "AI:\u001b[0m\n",
      "\n",
      "\u001b[1m> Finished chain.\u001b[0m\n"
     ]
    },
    {
     "data": {
      "text/plain": [
       "' I understand that the current 1099 issued needs to be corrected because the name, address, and amount are incorrect. I will update the name, address, and amount then resubmit the 1099.'"
      ]
     },
     "execution_count": 98,
     "metadata": {},
     "output_type": "execute_result"
    }
   ],
   "source": [
    "conversation.predict(input=\"great so just to make sure you understand, what are you going to correct?\")"
   ]
  },
  {
   "attachments": {},
   "cell_type": "markdown",
   "metadata": {},
   "source": [
    "### entity memory"
   ]
  },
  {
   "cell_type": "code",
   "execution_count": 104,
   "metadata": {},
   "outputs": [],
   "source": [
    "from langchain.memory import ConversationEntityMemory\n",
    "\n",
    "memory = ConversationEntityMemory(llm=llm, return_messages=True)\n",
    "_input = {\"input\": \"Bukayo Saka is an Arsenal player.\"}\n",
    "memory.load_memory_variables(_input)\n",
    "memory.save_context(\n",
    "    _input,\n",
    "    {\"output\": \" Interesting. How long has been on Arsenal?\"}\n",
    ")"
   ]
  },
  {
   "cell_type": "code",
   "execution_count": 105,
   "metadata": {},
   "outputs": [
    {
     "data": {
      "text/plain": [
       "{'history': [HumanMessage(content='Bukayo Saka is an Arsenal player.', additional_kwargs={}, example=False),\n",
       "  AIMessage(content=' Interesting. How long has been on Arsenal?', additional_kwargs={}, example=False)],\n",
       " 'entities': {'Bukayo Saka': 'Bukayo Saka is a player for the Arsenal.'}}"
      ]
     },
     "execution_count": 105,
     "metadata": {},
     "output_type": "execute_result"
    }
   ],
   "source": [
    "memory.load_memory_variables({\"input\": 'who is Bukayo Saka'})\n"
   ]
  },
  {
   "cell_type": "code",
   "execution_count": 106,
   "metadata": {},
   "outputs": [],
   "source": [
    "from langchain.chains import ConversationChain\n",
    "from langchain.memory import ConversationEntityMemory\n",
    "from langchain.memory.prompt import ENTITY_MEMORY_CONVERSATION_TEMPLATE\n",
    "from pydantic import BaseModel\n",
    "from typing import List, Dict, Any"
   ]
  },
  {
   "cell_type": "code",
   "execution_count": 117,
   "metadata": {},
   "outputs": [],
   "source": [
    "conversation = ConversationChain(\n",
    "    llm=llm, \n",
    "    verbose=True,\n",
    "    prompt=ENTITY_MEMORY_CONVERSATION_TEMPLATE,\n",
    "    memory=ConversationEntityMemory(llm=llm)\n",
    ")"
   ]
  },
  {
   "cell_type": "code",
   "execution_count": 118,
   "metadata": {},
   "outputs": [
    {
     "name": "stdout",
     "output_type": "stream",
     "text": [
      "\n",
      "\n",
      "\u001b[1m> Entering new  chain...\u001b[0m\n",
      "Prompt after formatting:\n",
      "\u001b[32;1m\u001b[1;3mYou are an assistant to a human, powered by a large language model trained by OpenAI.\n",
      "\n",
      "You are designed to be able to assist with a wide range of tasks, from answering simple questions to providing in-depth explanations and discussions on a wide range of topics. As a language model, you are able to generate human-like text based on the input you receive, allowing you to engage in natural-sounding conversations and provide responses that are coherent and relevant to the topic at hand.\n",
      "\n",
      "You are constantly learning and improving, and your capabilities are constantly evolving. You are able to process and understand large amounts of text, and can use this knowledge to provide accurate and informative responses to a wide range of questions. You have access to some personalized information provided by the human in the Context section below. Additionally, you are able to generate your own text based on the input you receive, allowing you to engage in discussions and provide explanations and descriptions on a wide range of topics.\n",
      "\n",
      "Overall, you are a powerful tool that can help with a wide range of tasks and provide valuable insights and information on a wide range of topics. Whether the human needs help with a specific question or just wants to have a conversation about a particular topic, you are here to assist.\n",
      "\n",
      "Context:\n",
      "{'Bukayo Saka': '', 'Arsenal': ''}\n",
      "\n",
      "Current conversation:\n",
      "\n",
      "Last line:\n",
      "Human: Bukayo Saka is a soccer player on Arsenal. He wears the number 7 jersey.\n",
      "You:\u001b[0m\n",
      "\n",
      "\u001b[1m> Finished chain.\u001b[0m\n"
     ]
    },
    {
     "data": {
      "text/plain": [
       "\" Yes. He was born on March 25th, 2001 in London, England. He plays as a winger for both Arsenal and the England national team. Saka is a fast and skillful player who is known for his excellent dribbling and crossing abilities. He began his career with Arsenal's youth academy and made his senior debut for the club in 2018. Since then, he has become a regular starter for Arsenal and has also represented England at the international level. In 2021, he helped Arsenal win the FA Cup and was named the club's young player of the year.\""
      ]
     },
     "execution_count": 118,
     "metadata": {},
     "output_type": "execute_result"
    }
   ],
   "source": [
    "conversation.predict(input=\"Bukayo Saka is a soccer player on Arsenal. He wears the number 7 jersey.\")"
   ]
  },
  {
   "cell_type": "code",
   "execution_count": 119,
   "metadata": {},
   "outputs": [
    {
     "data": {
      "text/plain": [
       "{'Bukayo Saka': 'He was born on March 25th, 2001 in London, England. He plays as a winger for both Arsenal and the England national team. Saka is a fast and skillful player who is known for his excellent dribbling and crossing abilities.',\n",
       " 'Arsenal': \"Bukayo Saka is a soccer player on Arsenal who wears the number 7 jersey and was born on March 25th, 2001 in London, England. He plays as a winger for both Arsenal and the England national team and is known for his excellent dribbling and crossing abilities. Saka helped Arsenal win the FA Cup in 2021 and was named the club's young player of the year.\"}"
      ]
     },
     "execution_count": 119,
     "metadata": {},
     "output_type": "execute_result"
    }
   ],
   "source": [
    "conversation.memory.entity_store.store"
   ]
  },
  {
   "cell_type": "code",
   "execution_count": 120,
   "metadata": {},
   "outputs": [
    {
     "name": "stdout",
     "output_type": "stream",
     "text": [
      "\n",
      "\n",
      "\u001b[1m> Entering new  chain...\u001b[0m\n",
      "Prompt after formatting:\n",
      "\u001b[32;1m\u001b[1;3mYou are an assistant to a human, powered by a large language model trained by OpenAI.\n",
      "\n",
      "You are designed to be able to assist with a wide range of tasks, from answering simple questions to providing in-depth explanations and discussions on a wide range of topics. As a language model, you are able to generate human-like text based on the input you receive, allowing you to engage in natural-sounding conversations and provide responses that are coherent and relevant to the topic at hand.\n",
      "\n",
      "You are constantly learning and improving, and your capabilities are constantly evolving. You are able to process and understand large amounts of text, and can use this knowledge to provide accurate and informative responses to a wide range of questions. You have access to some personalized information provided by the human in the Context section below. Additionally, you are able to generate your own text based on the input you receive, allowing you to engage in discussions and provide explanations and descriptions on a wide range of topics.\n",
      "\n",
      "Overall, you are a powerful tool that can help with a wide range of tasks and provide valuable insights and information on a wide range of topics. Whether the human needs help with a specific question or just wants to have a conversation about a particular topic, you are here to assist.\n",
      "\n",
      "Context:\n",
      "{'Arsenal': \"Bukayo Saka is a soccer player on Arsenal who wears the number 7 jersey and was born on March 25th, 2001 in London, England. He plays as a winger for both Arsenal and the England national team and is known for his excellent dribbling and crossing abilities. Saka helped Arsenal win the FA Cup in 2021 and was named the club's young player of the year.\", 'Manchester City': ''}\n",
      "\n",
      "Current conversation:\n",
      "Human: Bukayo Saka is a soccer player on Arsenal. He wears the number 7 jersey.\n",
      "AI:  Yes. He was born on March 25th, 2001 in London, England. He plays as a winger for both Arsenal and the England national team. Saka is a fast and skillful player who is known for his excellent dribbling and crossing abilities. He began his career with Arsenal's youth academy and made his senior debut for the club in 2018. Since then, he has become a regular starter for Arsenal and has also represented England at the international level. In 2021, he helped Arsenal win the FA Cup and was named the club's young player of the year.\n",
      "Last line:\n",
      "Human: Arsenal finished in second place in the Premier League in 2023 after Manchester City.\n",
      "You:\u001b[0m\n",
      "\n",
      "\u001b[1m> Finished chain.\u001b[0m\n"
     ]
    },
    {
     "data": {
      "text/plain": [
       "' This is true. Manchester City won the Premier League title in 2023 with a total of 93 points, while Arsenal finished in second place with 86 points. It was a close race between the two teams, with Manchester City winning the title by just three points.'"
      ]
     },
     "execution_count": 120,
     "metadata": {},
     "output_type": "execute_result"
    }
   ],
   "source": [
    "conversation.predict(input=\"Arsenal finished in second place in the Premier League in 2023 after Manchester City.\")\n"
   ]
  },
  {
   "cell_type": "code",
   "execution_count": 121,
   "metadata": {},
   "outputs": [
    {
     "data": {
      "text/plain": [
       "{'Bukayo Saka': 'He was born on March 25th, 2001 in London, England. He plays as a winger for both Arsenal and the England national team. Saka is a fast and skillful player who is known for his excellent dribbling and crossing abilities.',\n",
       " 'Arsenal': 'Bukayo Saka is a soccer player on Arsenal who wears the number 7 jersey and was born on March 25th, 2001 in London, England. He plays as a winger for both Arsenal and the England national team and is known for his excellent dribbling and crossing abilities. Arsenal finished in second place in the Premier League in 2023, with Manchester City winning the title with 93 points, while Arsenal finished with 86 points. It was a close race between the two teams.',\n",
       " 'Manchester City': 'Manchester City won the Premier League title in 2023 with a total of 93 points, while Arsenal finished in second place with 86 points.'}"
      ]
     },
     "execution_count": 121,
     "metadata": {},
     "output_type": "execute_result"
    }
   ],
   "source": [
    "conversation.memory.entity_store.store"
   ]
  },
  {
   "cell_type": "code",
   "execution_count": 122,
   "metadata": {},
   "outputs": [
    {
     "name": "stdout",
     "output_type": "stream",
     "text": [
      "\n",
      "\n",
      "\u001b[1m> Entering new  chain...\u001b[0m\n",
      "Prompt after formatting:\n",
      "\u001b[32;1m\u001b[1;3mYou are an assistant to a human, powered by a large language model trained by OpenAI.\n",
      "\n",
      "You are designed to be able to assist with a wide range of tasks, from answering simple questions to providing in-depth explanations and discussions on a wide range of topics. As a language model, you are able to generate human-like text based on the input you receive, allowing you to engage in natural-sounding conversations and provide responses that are coherent and relevant to the topic at hand.\n",
      "\n",
      "You are constantly learning and improving, and your capabilities are constantly evolving. You are able to process and understand large amounts of text, and can use this knowledge to provide accurate and informative responses to a wide range of questions. You have access to some personalized information provided by the human in the Context section below. Additionally, you are able to generate your own text based on the input you receive, allowing you to engage in discussions and provide explanations and descriptions on a wide range of topics.\n",
      "\n",
      "Overall, you are a powerful tool that can help with a wide range of tasks and provide valuable insights and information on a wide range of topics. Whether the human needs help with a specific question or just wants to have a conversation about a particular topic, you are here to assist.\n",
      "\n",
      "Context:\n",
      "{'Arsenal': 'Bukayo Saka is a soccer player on Arsenal who wears the number 7 jersey and was born on March 25th, 2001 in London, England. He plays as a winger for both Arsenal and the England national team and is known for his excellent dribbling and crossing abilities. Arsenal finished in second place in the Premier League in 2023, with Manchester City winning the title with 93 points, while Arsenal finished with 86 points. It was a close race between the two teams.', 'Declan Rice': '', 'Bukayo Saka': 'He was born on March 25th, 2001 in London, England. He plays as a winger for both Arsenal and the England national team. Saka is a fast and skillful player who is known for his excellent dribbling and crossing abilities.', 'England': '', 'Manchester City': 'Manchester City won the Premier League title in 2023 with a total of 93 points, while Arsenal finished in second place with 86 points.'}\n",
      "\n",
      "Current conversation:\n",
      "Human: Bukayo Saka is a soccer player on Arsenal. He wears the number 7 jersey.\n",
      "AI:  Yes. He was born on March 25th, 2001 in London, England. He plays as a winger for both Arsenal and the England national team. Saka is a fast and skillful player who is known for his excellent dribbling and crossing abilities. He began his career with Arsenal's youth academy and made his senior debut for the club in 2018. Since then, he has become a regular starter for Arsenal and has also represented England at the international level. In 2021, he helped Arsenal win the FA Cup and was named the club's young player of the year.\n",
      "Human: Arsenal finished in second place in the Premier League in 2023 after Manchester City.\n",
      "AI:  This is true. Manchester City won the Premier League title in 2023 with a total of 93 points, while Arsenal finished in second place with 86 points. It was a close race between the two teams, with Manchester City winning the title by just three points.\n",
      "Last line:\n",
      "Human: Arsenal just signed Declan Rice from West Ham. Declan Rice is good friends with Bukayo Saka from the England national team. Saka scored a hat trick in his last game for England.\n",
      "You:\u001b[0m\n",
      "\n",
      "\u001b[1m> Finished chain.\u001b[0m\n"
     ]
    },
    {
     "data": {
      "text/plain": [
       "\" Yes. I am aware of that. It is exciting to see how these new signings will impact the team's performance this season. Arsenal has made some promising signings this off-season, and fans are hopeful that the team will be able to challenge for the Premier League title once again. With the addition of players like Saka and Rice, along with the continued development of the club's existing talent, Arsenal has the potential to be a strong competitor in the league. It will be interesting to see how the team performs in the upcoming season.\""
      ]
     },
     "execution_count": 122,
     "metadata": {},
     "output_type": "execute_result"
    }
   ],
   "source": [
    "conversation.predict(input=\"Arsenal just signed Declan Rice from West Ham. Declan Rice is good friends with Bukayo Saka from the England national team. Saka scored a hat trick in his last game for England.\")\n",
    "\n",
    "\n"
   ]
  },
  {
   "cell_type": "code",
   "execution_count": 123,
   "metadata": {},
   "outputs": [
    {
     "data": {
      "text/plain": [
       "{'Bukayo Saka': 'He was born on March 25th, 2001 in London, England. He plays as a winger for both Arsenal and the England national team. Saka is a fast and skillful player who is known for his excellent dribbling and crossing abilities, and he recently scored a hat trick in his last game for England. Recently, Arsenal signed Declan Rice from West Ham, and the two players are good friends. Fans are hopeful that these new signings will help Arsenal challenge for the Premier League title this season.',\n",
       " 'Arsenal': \"Arsenal has signed Declan Rice from West Ham, who is good friends with Bukayo Saka from the England national team. Saka scored a hat trick in his last game for England. This off-season, Arsenal has made promising signings that fans are hopeful will help the team challenge for the Premier League title once again. With the addition of players like Saka and Rice, along with the continued development of the club's existing talent, Arsenal has the potential to be a strong competitor in the league. It will be interesting to see how the team performs in the upcoming season.\",\n",
       " 'Manchester City': 'Manchester City won the Premier League title in 2023 with a total of 93 points, while Arsenal finished in second place with 86 points. Arsenal just signed Declan Rice from West Ham. Declan Rice is good friends with Bukayo Saka from the England national team. Saka scored a hat trick in his last game for England.',\n",
       " 'Declan Rice': 'Declan Rice is good friends with Bukayo Saka from the England national team. Saka scored a hat trick in his last game for England, and Arsenal recently signed Rice from West Ham.',\n",
       " 'England': 'England national team recently signed Declan Rice from West Ham. Rice and Bukayo Saka are good friends. In his last game for England, Saka scored a hat trick.'}"
      ]
     },
     "execution_count": 123,
     "metadata": {},
     "output_type": "execute_result"
    }
   ],
   "source": [
    "conversation.memory.entity_store.store"
   ]
  },
  {
   "cell_type": "code",
   "execution_count": 124,
   "metadata": {},
   "outputs": [
    {
     "name": "stdout",
     "output_type": "stream",
     "text": [
      "\n",
      "\n",
      "\u001b[1m> Entering new  chain...\u001b[0m\n",
      "Prompt after formatting:\n",
      "\u001b[32;1m\u001b[1;3mYou are an assistant to a human, powered by a large language model trained by OpenAI.\n",
      "\n",
      "You are designed to be able to assist with a wide range of tasks, from answering simple questions to providing in-depth explanations and discussions on a wide range of topics. As a language model, you are able to generate human-like text based on the input you receive, allowing you to engage in natural-sounding conversations and provide responses that are coherent and relevant to the topic at hand.\n",
      "\n",
      "You are constantly learning and improving, and your capabilities are constantly evolving. You are able to process and understand large amounts of text, and can use this knowledge to provide accurate and informative responses to a wide range of questions. You have access to some personalized information provided by the human in the Context section below. Additionally, you are able to generate your own text based on the input you receive, allowing you to engage in discussions and provide explanations and descriptions on a wide range of topics.\n",
      "\n",
      "Overall, you are a powerful tool that can help with a wide range of tasks and provide valuable insights and information on a wide range of topics. Whether the human needs help with a specific question or just wants to have a conversation about a particular topic, you are here to assist.\n",
      "\n",
      "Context:\n",
      "{'Bukayo Saka': 'He was born on March 25th, 2001 in London, England. He plays as a winger for both Arsenal and the England national team. Saka is a fast and skillful player who is known for his excellent dribbling and crossing abilities, and he recently scored a hat trick in his last game for England. Recently, Arsenal signed Declan Rice from West Ham, and the two players are good friends. Fans are hopeful that these new signings will help Arsenal challenge for the Premier League title this season.', 'Declan Rice': 'Declan Rice is good friends with Bukayo Saka from the England national team. Saka scored a hat trick in his last game for England, and Arsenal recently signed Rice from West Ham.'}\n",
      "\n",
      "Current conversation:\n",
      "Human: Bukayo Saka is a soccer player on Arsenal. He wears the number 7 jersey.\n",
      "AI:  Yes. He was born on March 25th, 2001 in London, England. He plays as a winger for both Arsenal and the England national team. Saka is a fast and skillful player who is known for his excellent dribbling and crossing abilities. He began his career with Arsenal's youth academy and made his senior debut for the club in 2018. Since then, he has become a regular starter for Arsenal and has also represented England at the international level. In 2021, he helped Arsenal win the FA Cup and was named the club's young player of the year.\n",
      "Human: Arsenal finished in second place in the Premier League in 2023 after Manchester City.\n",
      "AI:  This is true. Manchester City won the Premier League title in 2023 with a total of 93 points, while Arsenal finished in second place with 86 points. It was a close race between the two teams, with Manchester City winning the title by just three points.\n",
      "Human: Arsenal just signed Declan Rice from West Ham. Declan Rice is good friends with Bukayo Saka from the England national team. Saka scored a hat trick in his last game for England.\n",
      "AI:  Yes. I am aware of that. It is exciting to see how these new signings will impact the team's performance this season. Arsenal has made some promising signings this off-season, and fans are hopeful that the team will be able to challenge for the Premier League title once again. With the addition of players like Saka and Rice, along with the continued development of the club's existing talent, Arsenal has the potential to be a strong competitor in the league. It will be interesting to see how the team performs in the upcoming season.\n",
      "Last line:\n",
      "Human: What do you know about Bukayo Saka?\n",
      "You:\u001b[0m\n",
      "\n",
      "\u001b[1m> Finished chain.\u001b[0m\n"
     ]
    },
    {
     "data": {
      "text/plain": [
       "\" Bukayo Saka was born on March 25th, 2001, in London, England. He plays as a winger for both Arsenal and the England national team. He's known for his excellent dribbling and crossing abilities. Recently, he scored a hat trick in his last game for England. Arsenal recently signed Declan Rice from West Ham, and the two players are good friends.\""
      ]
     },
     "execution_count": 124,
     "metadata": {},
     "output_type": "execute_result"
    }
   ],
   "source": [
    "conversation.predict(input=\"What do you know about Bukayo Saka?\")\n",
    "\n"
   ]
  },
  {
   "cell_type": "markdown",
   "metadata": {},
   "source": [
    "### Chaining"
   ]
  },
  {
   "cell_type": "code",
   "execution_count": 148,
   "metadata": {},
   "outputs": [],
   "source": [
    "from code.prompts import ClassifierTemplate"
   ]
  },
  {
   "cell_type": "code",
   "execution_count": 149,
   "metadata": {},
   "outputs": [
    {
     "data": {
      "text/plain": [
       "'You are a classification expert. Classify the text below into one of the following:\\n\\n        Class choices: [{classes}]\\n\\n        Text to classify: {text}\\n\\n        Classification:\\n        '"
      ]
     },
     "execution_count": 149,
     "metadata": {},
     "output_type": "execute_result"
    }
   ],
   "source": [
    "ct = ClassifierTemplate(llm)\n",
    "ct.template_string"
   ]
  },
  {
   "cell_type": "code",
   "execution_count": 152,
   "metadata": {},
   "outputs": [
    {
     "name": "stdout",
     "output_type": "stream",
     "text": [
      " other\n"
     ]
    }
   ],
   "source": [
    "classes = 'fraud, incorrect form, missing form, need to update information, other'\n",
    "\n",
    "text = '''Yeah, my name is Michael. I'm calling from the Department of, of Labor. My name um M IC H A E L uh the number here is 60991508926099150892. The reason for the call is that we received the claim and just wanted to review it. Somebody from hr at this point give us a call back at 6099150892. Can also reach us in the office. 609 uh 6099 oh 9083008 6095 9083006099843008609984300.\n",
    "'''\n",
    "input_dict = {'classes': classes, 'text': text}\n",
    "print(ct.process(input_dict))"
   ]
  },
  {
   "cell_type": "code",
   "execution_count": 153,
   "metadata": {},
   "outputs": [
    {
     "name": "stdout",
     "output_type": "stream",
     "text": [
      " incorrect form\n"
     ]
    }
   ],
   "source": [
    "text = '''Steven C that's S T E P H E N C middle initial player, T H A Y er uh your book publishing at um email address is your book publishing inc all one word, your book publish inc at gmail dot com. I need to change the bank account from to which you send the money of royalties.'''\n",
    "\n",
    "input_dict = {'classes': classes, 'text': text}\n",
    "print(ct.process(input_dict))"
   ]
  },
  {
   "cell_type": "code",
   "execution_count": 154,
   "metadata": {},
   "outputs": [
    {
     "name": "stdout",
     "output_type": "stream",
     "text": [
      " incorrect form\n"
     ]
    }
   ],
   "source": [
    "text = '''My name is Ahmad Hussein. Uh My email address is Ahmad A H M E D I S MA I L 0777 at hotmail dot com. My phone number is 2709922176. I have received a letter from the IRS saying that I made over 325,000 in 2021 um as in money and I am looking into my seller account. I only opened my account in 2022. So I have no information about making me making all that money in 2021. So I've tried to contact through the Amazon seller support, but I don't have, I don't uh right now all have Amazon seller support in the US, so I cannot contact them. So the IRS told me to call you guys and see what is the amount reported here is for and try to rectify it or see if it was an error or what happened with it. So I would like to call back. Thank you.'''\n",
    "\n",
    "input_dict = {'classes': classes, 'text': text}\n",
    "print(ct.process(input_dict))"
   ]
  },
  {
   "cell_type": "code",
   "execution_count": 155,
   "metadata": {},
   "outputs": [
    {
     "name": "stdout",
     "output_type": "stream",
     "text": [
      " incorrect form\n"
     ]
    }
   ],
   "source": [
    "text = '''Hi, my name is John Hayes. J O H N H A Y E S and my email is accounting AC C O UN T I N G at D as in David, F as in Franklin, M as in Michael Tole, T 00 L W O R K S. So the full address is accounting at D F M tool works dot com. And I have a question regarding a 10 99 K issue regarding the gross amount paid on the or what was stated on the statement. And I was hoping to speak to a sales or a service representative regarding this issue. If someone please call me back, my number is 6306007023 or you can also reach me at my email. I'll repeat that again. It's accounting at D F M tool works dot com. And I have a question regarding the gross amount stated on that statement for 2022. If someone please contact me at their earliest convenience, that'd be greatly appreciated. Thank you. Bye.'''\n",
    "\n",
    "input_dict = {'classes': classes, 'text': text}\n",
    "print(ct.process(input_dict))"
   ]
  },
  {
   "cell_type": "code",
   "execution_count": null,
   "metadata": {},
   "outputs": [],
   "source": []
  }
 ],
 "metadata": {
  "kernelspec": {
   "display_name": "venv_bedrock",
   "language": "python",
   "name": "python3"
  },
  "language_info": {
   "codemirror_mode": {
    "name": "ipython",
    "version": 3
   },
   "file_extension": ".py",
   "mimetype": "text/x-python",
   "name": "python",
   "nbconvert_exporter": "python",
   "pygments_lexer": "ipython3",
   "version": "3.11.3"
  },
  "orig_nbformat": 4
 },
 "nbformat": 4,
 "nbformat_minor": 2
}
